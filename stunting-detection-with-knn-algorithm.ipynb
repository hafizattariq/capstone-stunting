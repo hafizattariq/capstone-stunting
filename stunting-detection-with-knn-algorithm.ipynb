{
 "cells": [
  {
   "cell_type": "code",
   "id": "b1f6ade8",
   "metadata": {
    "_cell_guid": "b1076dfc-b9ad-4769-8c92-a6c4dae69d19",
    "_uuid": "8f2839f25d086af736a60e9eeb907d3b93b6e0e5",
    "execution": {
     "iopub.execute_input": "2024-01-23T06:48:57.800680Z",
     "iopub.status.busy": "2024-01-23T06:48:57.799856Z",
     "iopub.status.idle": "2024-01-23T06:48:58.230023Z",
     "shell.execute_reply": "2024-01-23T06:48:58.229187Z"
    },
    "papermill": {
     "duration": 0.441463,
     "end_time": "2024-01-23T06:48:58.232753",
     "exception": false,
     "start_time": "2024-01-23T06:48:57.791290",
     "status": "completed"
    },
    "tags": [],
    "ExecuteTime": {
     "end_time": "2024-06-02T08:44:04.580074Z",
     "start_time": "2024-06-02T08:44:04.574098Z"
    }
   },
   "source": [
    "# This Python 3 environment comes with many helpful analytics libraries installed\n",
    "# It is defined by the kaggle/python Docker image: https://github.com/kaggle/docker-python\n",
    "# For example, here's several helpful packages to load\n",
    "\n",
    "import numpy as np # linear algebra\n",
    "import pandas as pd # data processing, CSV file I/O (e.g. pd.read_csv)\n",
    "\n",
    "# Input data files are available in the read-only \"../input/\" directory\n",
    "# For example, running this (by clicking run or pressing Shift+Enter) will list all files under the input directory\n",
    "\n",
    "import os\n",
    "\n",
    "# You can write up to 20GB to the current directory (/kaggle/working/) that gets preserved as output when you create a version using \"Save & Run All\" \n",
    "# You can also write temporary files to /kaggle/temp/, but they won't be saved outside of the current session"
   ],
   "outputs": [],
   "execution_count": 3
  },
  {
   "cell_type": "code",
   "id": "a896455a",
   "metadata": {
    "execution": {
     "iopub.execute_input": "2024-01-23T06:48:58.245054Z",
     "iopub.status.busy": "2024-01-23T06:48:58.244561Z",
     "iopub.status.idle": "2024-01-23T06:48:58.395435Z",
     "shell.execute_reply": "2024-01-23T06:48:58.394407Z"
    },
    "papermill": {
     "duration": 0.159786,
     "end_time": "2024-01-23T06:48:58.397819",
     "exception": false,
     "start_time": "2024-01-23T06:48:58.238033",
     "status": "completed"
    },
    "tags": [],
    "ExecuteTime": {
     "end_time": "2024-06-02T08:44:05.449269Z",
     "start_time": "2024-06-02T08:44:05.364092Z"
    }
   },
   "source": [
    "# membaca dataset dari file CSV\n",
    "df = pd.read_csv('C:\\Bangkit ML 2024\\Stunting\\data_balita.csv')\n",
    "df"
   ],
   "outputs": [
    {
     "data": {
      "text/plain": [
       "        Umur (bulan) Jenis Kelamin  Tinggi Badan (cm)       Status Gizi\n",
       "0                  0     laki-laki          44.591973           stunted\n",
       "1                  0     laki-laki          56.705203            tinggi\n",
       "2                  0     laki-laki          46.863358            normal\n",
       "3                  0     laki-laki          47.508026            normal\n",
       "4                  0     laki-laki          42.743494  severely stunted\n",
       "...              ...           ...                ...               ...\n",
       "120994            60     perempuan         100.600000            normal\n",
       "120995            60     perempuan          98.300000           stunted\n",
       "120996            60     perempuan         121.300000            normal\n",
       "120997            60     perempuan         112.200000            normal\n",
       "120998            60     perempuan         109.800000            normal\n",
       "\n",
       "[120999 rows x 4 columns]"
      ],
      "text/html": [
       "<div>\n",
       "<style scoped>\n",
       "    .dataframe tbody tr th:only-of-type {\n",
       "        vertical-align: middle;\n",
       "    }\n",
       "\n",
       "    .dataframe tbody tr th {\n",
       "        vertical-align: top;\n",
       "    }\n",
       "\n",
       "    .dataframe thead th {\n",
       "        text-align: right;\n",
       "    }\n",
       "</style>\n",
       "<table border=\"1\" class=\"dataframe\">\n",
       "  <thead>\n",
       "    <tr style=\"text-align: right;\">\n",
       "      <th></th>\n",
       "      <th>Umur (bulan)</th>\n",
       "      <th>Jenis Kelamin</th>\n",
       "      <th>Tinggi Badan (cm)</th>\n",
       "      <th>Status Gizi</th>\n",
       "    </tr>\n",
       "  </thead>\n",
       "  <tbody>\n",
       "    <tr>\n",
       "      <th>0</th>\n",
       "      <td>0</td>\n",
       "      <td>laki-laki</td>\n",
       "      <td>44.591973</td>\n",
       "      <td>stunted</td>\n",
       "    </tr>\n",
       "    <tr>\n",
       "      <th>1</th>\n",
       "      <td>0</td>\n",
       "      <td>laki-laki</td>\n",
       "      <td>56.705203</td>\n",
       "      <td>tinggi</td>\n",
       "    </tr>\n",
       "    <tr>\n",
       "      <th>2</th>\n",
       "      <td>0</td>\n",
       "      <td>laki-laki</td>\n",
       "      <td>46.863358</td>\n",
       "      <td>normal</td>\n",
       "    </tr>\n",
       "    <tr>\n",
       "      <th>3</th>\n",
       "      <td>0</td>\n",
       "      <td>laki-laki</td>\n",
       "      <td>47.508026</td>\n",
       "      <td>normal</td>\n",
       "    </tr>\n",
       "    <tr>\n",
       "      <th>4</th>\n",
       "      <td>0</td>\n",
       "      <td>laki-laki</td>\n",
       "      <td>42.743494</td>\n",
       "      <td>severely stunted</td>\n",
       "    </tr>\n",
       "    <tr>\n",
       "      <th>...</th>\n",
       "      <td>...</td>\n",
       "      <td>...</td>\n",
       "      <td>...</td>\n",
       "      <td>...</td>\n",
       "    </tr>\n",
       "    <tr>\n",
       "      <th>120994</th>\n",
       "      <td>60</td>\n",
       "      <td>perempuan</td>\n",
       "      <td>100.600000</td>\n",
       "      <td>normal</td>\n",
       "    </tr>\n",
       "    <tr>\n",
       "      <th>120995</th>\n",
       "      <td>60</td>\n",
       "      <td>perempuan</td>\n",
       "      <td>98.300000</td>\n",
       "      <td>stunted</td>\n",
       "    </tr>\n",
       "    <tr>\n",
       "      <th>120996</th>\n",
       "      <td>60</td>\n",
       "      <td>perempuan</td>\n",
       "      <td>121.300000</td>\n",
       "      <td>normal</td>\n",
       "    </tr>\n",
       "    <tr>\n",
       "      <th>120997</th>\n",
       "      <td>60</td>\n",
       "      <td>perempuan</td>\n",
       "      <td>112.200000</td>\n",
       "      <td>normal</td>\n",
       "    </tr>\n",
       "    <tr>\n",
       "      <th>120998</th>\n",
       "      <td>60</td>\n",
       "      <td>perempuan</td>\n",
       "      <td>109.800000</td>\n",
       "      <td>normal</td>\n",
       "    </tr>\n",
       "  </tbody>\n",
       "</table>\n",
       "<p>120999 rows × 4 columns</p>\n",
       "</div>"
      ]
     },
     "execution_count": 4,
     "metadata": {},
     "output_type": "execute_result"
    }
   ],
   "execution_count": 4
  },
  {
   "cell_type": "code",
   "id": "e25d9570",
   "metadata": {
    "execution": {
     "iopub.execute_input": "2024-01-23T06:48:58.410122Z",
     "iopub.status.busy": "2024-01-23T06:48:58.409717Z",
     "iopub.status.idle": "2024-01-23T06:48:58.439541Z",
     "shell.execute_reply": "2024-01-23T06:48:58.438397Z"
    },
    "papermill": {
     "duration": 0.039056,
     "end_time": "2024-01-23T06:48:58.442233",
     "exception": false,
     "start_time": "2024-01-23T06:48:58.403177",
     "status": "completed"
    },
    "tags": [],
    "ExecuteTime": {
     "end_time": "2024-06-02T08:44:07.861251Z",
     "start_time": "2024-06-02T08:44:07.844078Z"
    }
   },
   "source": [
    "category_counts = df['Status Gizi'].value_counts()\n",
    "category_counts"
   ],
   "outputs": [
    {
     "data": {
      "text/plain": [
       "Status Gizi\n",
       "normal              67755\n",
       "severely stunted    19869\n",
       "tinggi              19560\n",
       "stunted             13815\n",
       "Name: count, dtype: int64"
      ]
     },
     "execution_count": 5,
     "metadata": {},
     "output_type": "execute_result"
    }
   ],
   "execution_count": 5
  },
  {
   "cell_type": "code",
   "id": "181bd75a",
   "metadata": {
    "execution": {
     "iopub.execute_input": "2024-01-23T06:48:58.455813Z",
     "iopub.status.busy": "2024-01-23T06:48:58.455064Z",
     "iopub.status.idle": "2024-01-23T06:48:58.502301Z",
     "shell.execute_reply": "2024-01-23T06:48:58.501205Z"
    },
    "papermill": {
     "duration": 0.056852,
     "end_time": "2024-01-23T06:48:58.504851",
     "exception": false,
     "start_time": "2024-01-23T06:48:58.447999",
     "status": "completed"
    },
    "tags": [],
    "ExecuteTime": {
     "end_time": "2024-06-02T08:44:08.831853Z",
     "start_time": "2024-06-02T08:44:08.794122Z"
    }
   },
   "source": [
    "# mengkodekan jenis kelamin\n",
    "df['Jenis Kelamin'] = df['Jenis Kelamin'].map({'laki-laki': 0, 'perempuan': 1})\n",
    "\n",
    "# mengkodekan status gizi\n",
    "df['Status Gizi'] = df['Status Gizi'].map({'severely stunted': 0, 'stunted': 1, 'normal': 2, 'tinggi': 3})\n",
    "df"
   ],
   "outputs": [
    {
     "data": {
      "text/plain": [
       "        Umur (bulan)  Jenis Kelamin  Tinggi Badan (cm)  Status Gizi\n",
       "0                  0              0          44.591973            1\n",
       "1                  0              0          56.705203            3\n",
       "2                  0              0          46.863358            2\n",
       "3                  0              0          47.508026            2\n",
       "4                  0              0          42.743494            0\n",
       "...              ...            ...                ...          ...\n",
       "120994            60              1         100.600000            2\n",
       "120995            60              1          98.300000            1\n",
       "120996            60              1         121.300000            2\n",
       "120997            60              1         112.200000            2\n",
       "120998            60              1         109.800000            2\n",
       "\n",
       "[120999 rows x 4 columns]"
      ],
      "text/html": [
       "<div>\n",
       "<style scoped>\n",
       "    .dataframe tbody tr th:only-of-type {\n",
       "        vertical-align: middle;\n",
       "    }\n",
       "\n",
       "    .dataframe tbody tr th {\n",
       "        vertical-align: top;\n",
       "    }\n",
       "\n",
       "    .dataframe thead th {\n",
       "        text-align: right;\n",
       "    }\n",
       "</style>\n",
       "<table border=\"1\" class=\"dataframe\">\n",
       "  <thead>\n",
       "    <tr style=\"text-align: right;\">\n",
       "      <th></th>\n",
       "      <th>Umur (bulan)</th>\n",
       "      <th>Jenis Kelamin</th>\n",
       "      <th>Tinggi Badan (cm)</th>\n",
       "      <th>Status Gizi</th>\n",
       "    </tr>\n",
       "  </thead>\n",
       "  <tbody>\n",
       "    <tr>\n",
       "      <th>0</th>\n",
       "      <td>0</td>\n",
       "      <td>0</td>\n",
       "      <td>44.591973</td>\n",
       "      <td>1</td>\n",
       "    </tr>\n",
       "    <tr>\n",
       "      <th>1</th>\n",
       "      <td>0</td>\n",
       "      <td>0</td>\n",
       "      <td>56.705203</td>\n",
       "      <td>3</td>\n",
       "    </tr>\n",
       "    <tr>\n",
       "      <th>2</th>\n",
       "      <td>0</td>\n",
       "      <td>0</td>\n",
       "      <td>46.863358</td>\n",
       "      <td>2</td>\n",
       "    </tr>\n",
       "    <tr>\n",
       "      <th>3</th>\n",
       "      <td>0</td>\n",
       "      <td>0</td>\n",
       "      <td>47.508026</td>\n",
       "      <td>2</td>\n",
       "    </tr>\n",
       "    <tr>\n",
       "      <th>4</th>\n",
       "      <td>0</td>\n",
       "      <td>0</td>\n",
       "      <td>42.743494</td>\n",
       "      <td>0</td>\n",
       "    </tr>\n",
       "    <tr>\n",
       "      <th>...</th>\n",
       "      <td>...</td>\n",
       "      <td>...</td>\n",
       "      <td>...</td>\n",
       "      <td>...</td>\n",
       "    </tr>\n",
       "    <tr>\n",
       "      <th>120994</th>\n",
       "      <td>60</td>\n",
       "      <td>1</td>\n",
       "      <td>100.600000</td>\n",
       "      <td>2</td>\n",
       "    </tr>\n",
       "    <tr>\n",
       "      <th>120995</th>\n",
       "      <td>60</td>\n",
       "      <td>1</td>\n",
       "      <td>98.300000</td>\n",
       "      <td>1</td>\n",
       "    </tr>\n",
       "    <tr>\n",
       "      <th>120996</th>\n",
       "      <td>60</td>\n",
       "      <td>1</td>\n",
       "      <td>121.300000</td>\n",
       "      <td>2</td>\n",
       "    </tr>\n",
       "    <tr>\n",
       "      <th>120997</th>\n",
       "      <td>60</td>\n",
       "      <td>1</td>\n",
       "      <td>112.200000</td>\n",
       "      <td>2</td>\n",
       "    </tr>\n",
       "    <tr>\n",
       "      <th>120998</th>\n",
       "      <td>60</td>\n",
       "      <td>1</td>\n",
       "      <td>109.800000</td>\n",
       "      <td>2</td>\n",
       "    </tr>\n",
       "  </tbody>\n",
       "</table>\n",
       "<p>120999 rows × 4 columns</p>\n",
       "</div>"
      ]
     },
     "execution_count": 6,
     "metadata": {},
     "output_type": "execute_result"
    }
   ],
   "execution_count": 6
  },
  {
   "cell_type": "code",
   "id": "a85b81a4",
   "metadata": {
    "execution": {
     "iopub.execute_input": "2024-01-23T06:48:58.517977Z",
     "iopub.status.busy": "2024-01-23T06:48:58.517581Z",
     "iopub.status.idle": "2024-01-23T06:48:59.792398Z",
     "shell.execute_reply": "2024-01-23T06:48:59.791303Z"
    },
    "papermill": {
     "duration": 1.284061,
     "end_time": "2024-01-23T06:48:59.794702",
     "exception": false,
     "start_time": "2024-01-23T06:48:58.510641",
     "status": "completed"
    },
    "tags": [],
    "ExecuteTime": {
     "end_time": "2024-06-03T17:41:12.832057Z",
     "start_time": "2024-06-03T17:41:07.678787Z"
    }
   },
   "source": [
    "from sklearn.model_selection import train_test_split\n",
    "\n",
    "# memisahkan fitur dan target\n",
    "X = df.iloc[:, 1:6]\n",
    "X = df.drop('Status Gizi', axis=1)\n",
    "y = df['Status Gizi']\n",
    "\n",
    "# membagi dataset menjadi data latih dan data uji\n",
    "X_train, X_test, y_train, y_test = train_test_split(X, y, test_size=0.2, random_state=42)\n",
    "X"
   ],
   "outputs": [
    {
     "ename": "NameError",
     "evalue": "name 'df' is not defined",
     "output_type": "error",
     "traceback": [
      "\u001B[1;31m---------------------------------------------------------------------------\u001B[0m",
      "\u001B[1;31mNameError\u001B[0m                                 Traceback (most recent call last)",
      "Cell \u001B[1;32mIn[1], line 8\u001B[0m\n\u001B[0;32m      2\u001B[0m \u001B[38;5;28;01mfrom\u001B[39;00m \u001B[38;5;21;01msklearn\u001B[39;00m\u001B[38;5;21;01m.\u001B[39;00m\u001B[38;5;21;01mmodel_selection\u001B[39;00m \u001B[38;5;28;01mimport\u001B[39;00m train_test_split\n\u001B[0;32m      4\u001B[0m \u001B[38;5;66;03m# Misalkan df adalah DataFrame yang sudah Anda miliki\u001B[39;00m\n\u001B[0;32m      5\u001B[0m \u001B[38;5;66;03m# Misalkan fitur berada pada kolom 1 hingga 5 dan target pada kolom 'Status Gizi'\u001B[39;00m\n\u001B[0;32m      6\u001B[0m \n\u001B[0;32m      7\u001B[0m \u001B[38;5;66;03m# Memisahkan fitur dan target\u001B[39;00m\n\u001B[1;32m----> 8\u001B[0m X \u001B[38;5;241m=\u001B[39m \u001B[43mdf\u001B[49m\u001B[38;5;241m.\u001B[39mdrop(\u001B[38;5;124m'\u001B[39m\u001B[38;5;124mStatus Gizi\u001B[39m\u001B[38;5;124m'\u001B[39m, axis\u001B[38;5;241m=\u001B[39m\u001B[38;5;241m1\u001B[39m)\n\u001B[0;32m      9\u001B[0m y \u001B[38;5;241m=\u001B[39m df[\u001B[38;5;124m'\u001B[39m\u001B[38;5;124mStatus Gizi\u001B[39m\u001B[38;5;124m'\u001B[39m]\n\u001B[0;32m     11\u001B[0m \u001B[38;5;66;03m# Membagi dataset menjadi data latih dan data uji menggunakan scikit-learn\u001B[39;00m\n",
      "\u001B[1;31mNameError\u001B[0m: name 'df' is not defined"
     ]
    }
   ],
   "execution_count": 1
  },
  {
   "cell_type": "code",
   "id": "00068c41",
   "metadata": {
    "execution": {
     "iopub.execute_input": "2024-01-23T06:48:59.808736Z",
     "iopub.status.busy": "2024-01-23T06:48:59.808322Z",
     "iopub.status.idle": "2024-01-23T06:49:00.137801Z",
     "shell.execute_reply": "2024-01-23T06:49:00.136704Z"
    },
    "papermill": {
     "duration": 0.339356,
     "end_time": "2024-01-23T06:49:00.140138",
     "exception": false,
     "start_time": "2024-01-23T06:48:59.800782",
     "status": "completed"
    },
    "tags": [],
    "ExecuteTime": {
     "end_time": "2024-06-03T17:41:52.187598Z",
     "start_time": "2024-06-03T17:41:52.118383Z"
    }
   },
   "source": [
    "import tensorflow as tf\n",
    "\n",
    "# Define the model\n",
    "model = tf.keras.models.Sequential([\n",
    "    tf.keras.layers.Dense(1, input_shape=(X_train.shape[1],), activation='sigmoid')\n",
    "])\n",
    "\n",
    "# Compile the model\n",
    "model.compile(loss='binary_crossentropy', optimizer='adam', metrics=['accuracy'])\n",
    "\n",
    "# Train the model\n",
    "model.fit(X_train, y_train, epochs=10, batch_size=32)\n",
    "\n",
    "# Evaluate the model\n",
    "loss, accuracy = model.evaluate(X_test, y_test)\n",
    "print('Test accuracy:', accuracy)"
   ],
   "outputs": [
    {
     "ename": "NameError",
     "evalue": "name 'X_train' is not defined",
     "output_type": "error",
     "traceback": [
      "\u001B[1;31m---------------------------------------------------------------------------\u001B[0m",
      "\u001B[1;31mNameError\u001B[0m                                 Traceback (most recent call last)",
      "Cell \u001B[1;32mIn[2], line 5\u001B[0m\n\u001B[0;32m      1\u001B[0m \u001B[38;5;28;01mimport\u001B[39;00m \u001B[38;5;21;01mtensorflow\u001B[39;00m \u001B[38;5;28;01mas\u001B[39;00m \u001B[38;5;21;01mtf\u001B[39;00m\n\u001B[0;32m      3\u001B[0m \u001B[38;5;66;03m# Define the model\u001B[39;00m\n\u001B[0;32m      4\u001B[0m model \u001B[38;5;241m=\u001B[39m tf\u001B[38;5;241m.\u001B[39mkeras\u001B[38;5;241m.\u001B[39mmodels\u001B[38;5;241m.\u001B[39mSequential([\n\u001B[1;32m----> 5\u001B[0m     tf\u001B[38;5;241m.\u001B[39mkeras\u001B[38;5;241m.\u001B[39mlayers\u001B[38;5;241m.\u001B[39mDense(\u001B[38;5;241m1\u001B[39m, input_shape\u001B[38;5;241m=\u001B[39m(\u001B[43mX_train\u001B[49m\u001B[38;5;241m.\u001B[39mshape[\u001B[38;5;241m1\u001B[39m],), activation\u001B[38;5;241m=\u001B[39m\u001B[38;5;124m'\u001B[39m\u001B[38;5;124msigmoid\u001B[39m\u001B[38;5;124m'\u001B[39m)\n\u001B[0;32m      6\u001B[0m ])\n\u001B[0;32m      8\u001B[0m \u001B[38;5;66;03m# Compile the model\u001B[39;00m\n\u001B[0;32m      9\u001B[0m model\u001B[38;5;241m.\u001B[39mcompile(loss\u001B[38;5;241m=\u001B[39m\u001B[38;5;124m'\u001B[39m\u001B[38;5;124mbinary_crossentropy\u001B[39m\u001B[38;5;124m'\u001B[39m, optimizer\u001B[38;5;241m=\u001B[39m\u001B[38;5;124m'\u001B[39m\u001B[38;5;124madam\u001B[39m\u001B[38;5;124m'\u001B[39m, metrics\u001B[38;5;241m=\u001B[39m[\u001B[38;5;124m'\u001B[39m\u001B[38;5;124maccuracy\u001B[39m\u001B[38;5;124m'\u001B[39m])\n",
      "\u001B[1;31mNameError\u001B[0m: name 'X_train' is not defined"
     ]
    }
   ],
   "execution_count": 2
  },
  {
   "cell_type": "code",
   "id": "1465d824",
   "metadata": {
    "execution": {
     "iopub.execute_input": "2024-01-23T06:49:00.154799Z",
     "iopub.status.busy": "2024-01-23T06:49:00.154253Z",
     "iopub.status.idle": "2024-01-23T06:49:01.747147Z",
     "shell.execute_reply": "2024-01-23T06:49:01.746050Z"
    },
    "papermill": {
     "duration": 1.602888,
     "end_time": "2024-01-23T06:49:01.749486",
     "exception": false,
     "start_time": "2024-01-23T06:49:00.146598",
     "status": "completed"
    },
    "tags": [],
    "ExecuteTime": {
     "end_time": "2024-06-02T08:47:25.341209Z",
     "start_time": "2024-06-02T08:47:23.629185Z"
    }
   },
   "source": [
    "from sklearn.metrics import accuracy_score\n",
    "# Make predictions with the Logistic Regression model\n",
    "y_pred_probs = model.predict(X_test)\n",
    "y_pred = (y_pred_probs > 0.5).astype(int)\n",
    "\n",
    "# Calculate the accuracy of the Logistic Regression model\n",
    "accuracy = accuracy_score(y_test, y_pred)\n",
    "print('Test accuracy:', accuracy)"
   ],
   "outputs": [
    {
     "name": "stdout",
     "output_type": "stream",
     "text": [
      "\u001B[1m757/757\u001B[0m \u001B[32m━━━━━━━━━━━━━━━━━━━━\u001B[0m\u001B[37m\u001B[0m \u001B[1m1s\u001B[0m 889us/step\n",
      "Test accuracy: 0.11528925619834711\n"
     ]
    }
   ],
   "execution_count": 10
  },
  {
   "cell_type": "code",
   "id": "a148459b",
   "metadata": {
    "execution": {
     "iopub.execute_input": "2024-01-23T06:49:01.763690Z",
     "iopub.status.busy": "2024-01-23T06:49:01.763290Z",
     "iopub.status.idle": "2024-01-23T06:49:01.777146Z",
     "shell.execute_reply": "2024-01-23T06:49:01.775974Z"
    },
    "papermill": {
     "duration": 0.023794,
     "end_time": "2024-01-23T06:49:01.779509",
     "exception": false,
     "start_time": "2024-01-23T06:49:01.755715",
     "status": "completed"
    },
    "tags": [],
    "ExecuteTime": {
     "end_time": "2024-06-02T08:48:00.258881Z",
     "start_time": "2024-06-02T08:47:59.614233Z"
    }
   },
   "source": [
    "from sklearn.metrics import confusion_matrix\n",
    "\n",
    "# Make predictions with the Logistic Regression model\n",
    "y_pred_probs = model.predict(X_test)\n",
    "y_pred = (y_pred_probs > 0.5).astype(int)\n",
    "\n",
    "# Calculate the confusion matrix of the Logistic Regression model\n",
    "confusion = confusion_matrix(y_test, y_pred)\n",
    "print('Confusion matrix for Logistic Regression model:\\n', confusion)"
   ],
   "outputs": [
    {
     "name": "stdout",
     "output_type": "stream",
     "text": [
      "\u001B[1m757/757\u001B[0m \u001B[32m━━━━━━━━━━━━━━━━━━━━\u001B[0m\u001B[37m\u001B[0m \u001B[1m0s\u001B[0m 514us/step\n",
      "Confusion matrix for Logistic Regression model:\n",
      " [[    0  4130     0     0]\n",
      " [    0  2790     0     0]\n",
      " [    0 13382     0     0]\n",
      " [    0  3898     0     0]]\n"
     ]
    }
   ],
   "execution_count": 11
  },
  {
   "cell_type": "code",
   "id": "7e801931",
   "metadata": {
    "execution": {
     "iopub.execute_input": "2024-01-23T06:49:01.794833Z",
     "iopub.status.busy": "2024-01-23T06:49:01.794095Z",
     "iopub.status.idle": "2024-01-23T06:49:01.845984Z",
     "shell.execute_reply": "2024-01-23T06:49:01.844867Z"
    },
    "papermill": {
     "duration": 0.062296,
     "end_time": "2024-01-23T06:49:01.848478",
     "exception": false,
     "start_time": "2024-01-23T06:49:01.786182",
     "status": "completed"
    },
    "tags": [],
    "ExecuteTime": {
     "end_time": "2024-06-02T08:48:05.538055Z",
     "start_time": "2024-06-02T08:48:05.505907Z"
    }
   },
   "source": [
    "print(classification_report(y_test.values.reshape(-1, 1), y_pred))"
   ],
   "outputs": [
    {
     "ename": "NameError",
     "evalue": "name 'classification_report' is not defined",
     "output_type": "error",
     "traceback": [
      "\u001B[1;31m---------------------------------------------------------------------------\u001B[0m",
      "\u001B[1;31mNameError\u001B[0m                                 Traceback (most recent call last)",
      "Cell \u001B[1;32mIn[12], line 1\u001B[0m\n\u001B[1;32m----> 1\u001B[0m \u001B[38;5;28mprint\u001B[39m(\u001B[43mclassification_report\u001B[49m(y_test\u001B[38;5;241m.\u001B[39mvalues\u001B[38;5;241m.\u001B[39mreshape(\u001B[38;5;241m-\u001B[39m\u001B[38;5;241m1\u001B[39m, \u001B[38;5;241m1\u001B[39m), y_pred))\n",
      "\u001B[1;31mNameError\u001B[0m: name 'classification_report' is not defined"
     ]
    }
   ],
   "execution_count": 12
  },
  {
   "cell_type": "code",
   "id": "c6bd3559",
   "metadata": {
    "execution": {
     "iopub.execute_input": "2024-01-23T06:49:01.864152Z",
     "iopub.status.busy": "2024-01-23T06:49:01.863471Z",
     "iopub.status.idle": "2024-01-23T06:49:07.588489Z",
     "shell.execute_reply": "2024-01-23T06:49:07.587384Z"
    },
    "papermill": {
     "duration": 5.735852,
     "end_time": "2024-01-23T06:49:07.591093",
     "exception": false,
     "start_time": "2024-01-23T06:49:01.855241",
     "status": "completed"
    },
    "tags": [],
    "ExecuteTime": {
     "end_time": "2024-06-02T08:48:07.358187Z",
     "start_time": "2024-06-02T08:48:07.319221Z"
    }
   },
   "source": [
    "from sklearn.model_selection import cross_val_score\n",
    "\n",
    "print('Cross val: ', cross_val_score(knn, y_test.values.reshape(-1, 1), y_pred, cv = 5))\n",
    "print('Accuracy : ', np.mean(cross_val_score(knn, y_test.values.reshape(-1, 1), y_pred)))"
   ],
   "outputs": [
    {
     "ename": "NameError",
     "evalue": "name 'knn' is not defined",
     "output_type": "error",
     "traceback": [
      "\u001B[1;31m---------------------------------------------------------------------------\u001B[0m",
      "\u001B[1;31mNameError\u001B[0m                                 Traceback (most recent call last)",
      "Cell \u001B[1;32mIn[13], line 3\u001B[0m\n\u001B[0;32m      1\u001B[0m \u001B[38;5;28;01mfrom\u001B[39;00m \u001B[38;5;21;01msklearn\u001B[39;00m\u001B[38;5;21;01m.\u001B[39;00m\u001B[38;5;21;01mmodel_selection\u001B[39;00m \u001B[38;5;28;01mimport\u001B[39;00m cross_val_score\n\u001B[1;32m----> 3\u001B[0m \u001B[38;5;28mprint\u001B[39m(\u001B[38;5;124m'\u001B[39m\u001B[38;5;124mCross val: \u001B[39m\u001B[38;5;124m'\u001B[39m, cross_val_score(\u001B[43mknn\u001B[49m, y_test\u001B[38;5;241m.\u001B[39mvalues\u001B[38;5;241m.\u001B[39mreshape(\u001B[38;5;241m-\u001B[39m\u001B[38;5;241m1\u001B[39m, \u001B[38;5;241m1\u001B[39m), y_pred, cv \u001B[38;5;241m=\u001B[39m \u001B[38;5;241m5\u001B[39m))\n\u001B[0;32m      4\u001B[0m \u001B[38;5;28mprint\u001B[39m(\u001B[38;5;124m'\u001B[39m\u001B[38;5;124mAccuracy : \u001B[39m\u001B[38;5;124m'\u001B[39m, np\u001B[38;5;241m.\u001B[39mmean(cross_val_score(knn, y_test\u001B[38;5;241m.\u001B[39mvalues\u001B[38;5;241m.\u001B[39mreshape(\u001B[38;5;241m-\u001B[39m\u001B[38;5;241m1\u001B[39m, \u001B[38;5;241m1\u001B[39m), y_pred)))\n",
      "\u001B[1;31mNameError\u001B[0m: name 'knn' is not defined"
     ]
    }
   ],
   "execution_count": 13
  },
  {
   "cell_type": "code",
   "execution_count": 11,
   "id": "74ab52be",
   "metadata": {
    "execution": {
     "iopub.execute_input": "2024-01-23T06:49:07.607012Z",
     "iopub.status.busy": "2024-01-23T06:49:07.606630Z",
     "iopub.status.idle": "2024-01-23T06:49:07.617792Z",
     "shell.execute_reply": "2024-01-23T06:49:07.616647Z"
    },
    "papermill": {
     "duration": 0.022062,
     "end_time": "2024-01-23T06:49:07.620360",
     "exception": false,
     "start_time": "2024-01-23T06:49:07.598298",
     "status": "completed"
    },
    "tags": []
   },
   "outputs": [
    {
     "name": "stdout",
     "output_type": "stream",
     "text": [
      "Predicted Score = [2]\n"
     ]
    }
   ],
   "source": [
    "# Testing model\n",
    "test = pd.DataFrame({'Umur (bulan)': [20], 'Jenis Kelamin': [1], 'Tinggi Badan (cm)': [86.2]})\n",
    "\n",
    "pred = knn.predict(test)\n",
    "print(\"Predicted Score = {}\".format(np.array(pred)))"
   ]
  },
  {
   "cell_type": "code",
   "execution_count": 12,
   "id": "c0dff7c5",
   "metadata": {
    "execution": {
     "iopub.execute_input": "2024-01-23T06:49:07.636581Z",
     "iopub.status.busy": "2024-01-23T06:49:07.635766Z",
     "iopub.status.idle": "2024-01-23T06:49:07.653701Z",
     "shell.execute_reply": "2024-01-23T06:49:07.652663Z"
    },
    "papermill": {
     "duration": 0.028614,
     "end_time": "2024-01-23T06:49:07.656080",
     "exception": false,
     "start_time": "2024-01-23T06:49:07.627466",
     "status": "completed"
    },
    "tags": []
   },
   "outputs": [
    {
     "data": {
      "text/plain": [
       "['knn.model']"
      ]
     },
     "execution_count": 12,
     "metadata": {},
     "output_type": "execute_result"
    }
   ],
   "source": [
    "# Export the model\n",
    "import joblib\n",
    "\n",
    "joblib.dump(knn, 'knn.model')"
   ]
  }
 ],
 "metadata": {
  "kaggle": {
   "accelerator": "none",
   "dataSources": [
    {
     "datasetId": 4335436,
     "sourceId": 7448280,
     "sourceType": "datasetVersion"
    }
   ],
   "dockerImageVersionId": 30635,
   "isGpuEnabled": false,
   "isInternetEnabled": true,
   "language": "python",
   "sourceType": "notebook"
  },
  "kernelspec": {
   "display_name": "Python 3",
   "language": "python",
   "name": "python3"
  },
  "language_info": {
   "codemirror_mode": {
    "name": "ipython",
    "version": 3
   },
   "file_extension": ".py",
   "mimetype": "text/x-python",
   "name": "python",
   "nbconvert_exporter": "python",
   "pygments_lexer": "ipython3",
   "version": "3.10.12"
  },
  "papermill": {
   "default_parameters": {},
   "duration": 13.825268,
   "end_time": "2024-01-23T06:49:08.286561",
   "environment_variables": {},
   "exception": null,
   "input_path": "__notebook__.ipynb",
   "output_path": "__notebook__.ipynb",
   "parameters": {},
   "start_time": "2024-01-23T06:48:54.461293",
   "version": "2.4.0"
  }
 },
 "nbformat": 4,
 "nbformat_minor": 5
}
